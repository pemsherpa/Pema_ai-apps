{
  "nbformat": 4,
  "nbformat_minor": 0,
  "metadata": {
    "colab": {
      "provenance": []
    },
    "kernelspec": {
      "name": "python3",
      "display_name": "Python 3"
    },
    "language_info": {
      "name": "python"
    }
  },
  "cells": [
    {
      "cell_type": "code",
      "source": [
        "import pandas as pd\n",
        "\n",
        "file_path = 'Electricity Rate Plan.xlsx'\n",
        "sheets = pd.read_excel(file_path, sheet_name=None)\n",
        "\n",
        "pge_service_df = sheets['PG&E Service Area']\n",
        "\n",
        "def check_zip_code(zip_code):\n",
        "    if zip_code in pge_service_df['PG&E Service area Zip Code'].values:\n",
        "        return \"In PG&E service\"\n",
        "    else:\n",
        "        return \"Not in PG&E service\"\n",
        "\n",
        "user_zip_code = 95347\n",
        "result1 = check_zip_code(user_zip_code)\n",
        "\n",
        "print(result1)\n"
      ],
      "metadata": {
        "colab": {
          "base_uri": "https://localhost:8080/"
        },
        "id": "Y73lDxS2QW3Q",
        "outputId": "891dadde-8cb4-4a9d-9e05-b1e7172a3a47"
      },
      "execution_count": null,
      "outputs": [
        {
          "output_type": "stream",
          "name": "stdout",
          "text": [
            "In PG&E service\n"
          ]
        }
      ]
    },
    {
      "cell_type": "code",
      "source": [
        "import pandas as pd\n",
        "\n",
        "file_path2 = 'Electricity Rate Plan.xlsx'\n",
        "sheets2 = pd.read_excel(file_path2, sheet_name=None)\n",
        "\n",
        "print(sheets2.keys())"
      ],
      "metadata": {
        "colab": {
          "base_uri": "https://localhost:8080/"
        },
        "id": "Xju62cP5RWit",
        "outputId": "f1949ef8-6db8-4790-ab5d-c53992c23540"
      },
      "execution_count": null,
      "outputs": [
        {
          "output_type": "stream",
          "name": "stdout",
          "text": [
            "dict_keys(['PG&E Service Area', 'CCA', 'Joint Rate Plan', 'Bundled Peak Time Price', 'Unbundled Peak Time Price'])\n"
          ]
        }
      ]
    },
    {
      "cell_type": "code",
      "source": [
        "cca_df = sheets['CCA']\n",
        "\n",
        "def match_cca_service(zip_code):\n",
        "    for column in cca_df.columns:\n",
        "        if user_zip_code in cca_df[column].values:\n",
        "            return f\"Matched in CCA: {column}\"\n",
        "    return \"No CCA\"\n",
        "\n",
        "result2 = match_cca_service(result1)\n",
        "\n",
        "print(result2)\n"
      ],
      "metadata": {
        "colab": {
          "base_uri": "https://localhost:8080/"
        },
        "id": "QuoiGzn8Mkxu",
        "outputId": "f4d60f32-df04-4a18-80d2-e06de70fe828"
      },
      "execution_count": null,
      "outputs": [
        {
          "output_type": "stream",
          "name": "stdout",
          "text": [
            "No CCA\n"
          ]
        }
      ]
    },
    {
      "cell_type": "code",
      "source": [
        "joint_rate_plan_df = sheets['Joint Rate Plan']\n",
        "bundled_peak_time_price_df = sheets['Bundled Peak Time Price']\n",
        "unbundled_peak_time_price_df = sheets['Unbundled Peak Time Price']\n",
        "\n",
        "def get_matched_rows(zip_code, user_sector, user_bundled):\n",
        "    result1 = check_zip_code(zip_code)\n",
        "    result2 = match_cca_service(zip_code)\n",
        "\n",
        "    if \"Matched in CCA\" in result2:\n",
        "        matched_column = result2.split(\": \")[1]\n",
        "        location_matched_rows = joint_rate_plan_df[joint_rate_plan_df['Location'] == matched_column]\n",
        "\n",
        "        final_matched_rows = location_matched_rows[location_matched_rows['Sector'] == user_sector]\n",
        "\n",
        "        return final_matched_rows\n",
        "    elif \"No CCA\" in result2:\n",
        "        if user_bundled == \"Yes\":\n",
        "            sector_matched_rows = bundled_peak_time_price_df[bundled_peak_time_price_df['Sector'] == user_sector]\n",
        "        else:\n",
        "            sector_matched_rows = unbundled_peak_time_price_df[unbundled_peak_time_price_df['Sector'] == user_sector]\n",
        "\n",
        "        return sector_matched_rows\n",
        "    else:\n",
        "        return \"No matching rows in joint rate plan\", \"No matching rows in joint rate comparison\"\n",
        "\n",
        "\n",
        "user_sector = 'Large Commercial and Industrial'\n",
        "user_bundled = 'Yes'\n",
        "\n",
        "final_result = get_matched_rows(user_zip_code, user_sector, user_bundled)\n",
        "\n",
        "print(\"Matched rows:\")\n",
        "print(final_result)\n"
      ],
      "metadata": {
        "colab": {
          "base_uri": "https://localhost:8080/"
        },
        "id": "rVWcflqh_Kjv",
        "outputId": "6f401867-62a2-4a84-a6f9-8812229ac5a8"
      },
      "execution_count": null,
      "outputs": [
        {
          "output_type": "stream",
          "name": "stdout",
          "text": [
            "Matched rows:\n",
            "                              Sector     Plan Bundling  Season  \\\n",
            "83   Large Commercial and Industrial  B-19_SV      Yes  Summer   \n",
            "84   Large Commercial and Industrial  B-19_SV      Yes  Summer   \n",
            "85   Large Commercial and Industrial  B-19_SV      Yes  Summer   \n",
            "86   Large Commercial and Industrial  B-19_SV      Yes  Summer   \n",
            "87   Large Commercial and Industrial  B-19_SV      Yes  Winter   \n",
            "88   Large Commercial and Industrial  B-19_SV      Yes  Winter   \n",
            "89   Large Commercial and Industrial  B-19_SV      Yes  Winter   \n",
            "90   Large Commercial and Industrial  B-19_PV      Yes  Summer   \n",
            "91   Large Commercial and Industrial  B-19_PV      Yes  Summer   \n",
            "92   Large Commercial and Industrial  B-19_PV      Yes  Summer   \n",
            "93   Large Commercial and Industrial  B-19_PV      Yes  Summer   \n",
            "94   Large Commercial and Industrial  B-19_PV      Yes  Winter   \n",
            "95   Large Commercial and Industrial  B-19_PV      Yes  Winter   \n",
            "96   Large Commercial and Industrial  B-19_PV      Yes  Winter   \n",
            "97   Large Commercial and Industrial  B-19_TV      Yes  Summer   \n",
            "98   Large Commercial and Industrial  B-19_TV      Yes  Summer   \n",
            "99   Large Commercial and Industrial  B-19_TV      Yes  Summer   \n",
            "100  Large Commercial and Industrial  B-19_TV      Yes  Summer   \n",
            "101  Large Commercial and Industrial  B-19_TV      Yes  Winter   \n",
            "102  Large Commercial and Industrial  B-19_TV      Yes  Winter   \n",
            "103  Large Commercial and Industrial  B-19_TV      Yes  Winter   \n",
            "104  Large Commercial and Industrial  B-20_SV      Yes  Summer   \n",
            "105  Large Commercial and Industrial  B-20_SV      Yes  Summer   \n",
            "106  Large Commercial and Industrial  B-20_SV      Yes  Summer   \n",
            "107  Large Commercial and Industrial  B-20_SV      Yes  Summer   \n",
            "108  Large Commercial and Industrial  B-20_SV      Yes  Winter   \n",
            "109  Large Commercial and Industrial  B-20_SV      Yes  Winter   \n",
            "110  Large Commercial and Industrial  B-20_SV      Yes  Winter   \n",
            "111  Large Commercial and Industrial  B-20_PV      Yes  Summer   \n",
            "112  Large Commercial and Industrial  B-20_PV      Yes  Summer   \n",
            "113  Large Commercial and Industrial  B-20_PV      Yes  Summer   \n",
            "114  Large Commercial and Industrial  B-20_PV      Yes  Summer   \n",
            "115  Large Commercial and Industrial  B-20_PV      Yes  Winter   \n",
            "116  Large Commercial and Industrial  B-20_PV      Yes  Winter   \n",
            "117  Large Commercial and Industrial  B-20_PV      Yes  Winter   \n",
            "118  Large Commercial and Industrial  B-20_TV      Yes  Summer   \n",
            "119  Large Commercial and Industrial  B-20_TV      Yes  Summer   \n",
            "120  Large Commercial and Industrial  B-20_TV      Yes  Summer   \n",
            "121  Large Commercial and Industrial  B-20_TV      Yes  Summer   \n",
            "122  Large Commercial and Industrial  B-20_TV      Yes  Winter   \n",
            "123  Large Commercial and Industrial  B-20_TV      Yes  Winter   \n",
            "124  Large Commercial and Industrial  B-20_TV      Yes  Winter   \n",
            "\n",
            "               Type Peak Start Time Peak End Time  Energy Rate  \\\n",
            "83             Peak        16:00:00      21:00:00      0.24164   \n",
            "84        Part-Peak        14:00:00      16:00:00      0.19106   \n",
            "85        Part-Peak        21:00:00      23:00:00      0.19106   \n",
            "86         Off-Peak           Other         Other      0.15528   \n",
            "87             Peak        16:00:00      21:00:00      0.20952   \n",
            "88   Super-Off-Peak        09:00:00      14:00:00      0.08220   \n",
            "89         Off-Peak           Other         Other      0.15515   \n",
            "90             Peak        16:00:00      21:00:00      0.21347   \n",
            "91        Part-Peak        14:00:00      16:00:00      0.17507   \n",
            "92        Part-Peak        21:00:00      23:00:00      0.17507   \n",
            "93         Off-Peak           Other         Other      0.14168   \n",
            "94             Peak        16:00:00      21:00:00      0.19115   \n",
            "95   Super-Off-Peak        09:00:00      14:00:00      0.07230   \n",
            "96         Off-Peak           Other         Other      0.14209   \n",
            "97             Peak        16:00:00      21:00:00      0.19429   \n",
            "98        Part-Peak        14:00:00      16:00:00      0.17800   \n",
            "99        Part-Peak        21:00:00      23:00:00      0.17800   \n",
            "100        Off-Peak           Other         Other      0.14333   \n",
            "101            Peak        16:00:00      21:00:00      0.19319   \n",
            "102  Super-Off-Peak        09:00:00      14:00:00      0.07187   \n",
            "103        Off-Peak           Other         Other      0.14409   \n",
            "104            Peak        16:00:00      21:00:00      0.22935   \n",
            "105       Part-Peak        14:00:00      16:00:00      0.18403   \n",
            "106       Part-Peak        21:00:00      23:00:00      0.18403   \n",
            "107        Off-Peak           Other         Other      0.14825   \n",
            "108            Peak        16:00:00      21:00:00      0.20235   \n",
            "109  Super-Off-Peak        09:00:00      14:00:00      0.07509   \n",
            "110        Off-Peak           Other         Other      0.14796   \n",
            "111            Peak        16:00:00      21:00:00      0.22451   \n",
            "112       Part-Peak        14:00:00      16:00:00      0.17577   \n",
            "113       Part-Peak        21:00:00      23:00:00      0.17577   \n",
            "114        Off-Peak           Other         Other      0.14177   \n",
            "115            Peak        16:00:00      21:00:00      0.19348   \n",
            "116  Super-Off-Peak        09:00:00      14:00:00      0.06862   \n",
            "117        Off-Peak           Other         Other      0.14186   \n",
            "118            Peak        16:00:00      21:00:00      0.19738   \n",
            "119       Part-Peak        14:00:00      16:00:00      0.16646   \n",
            "120       Part-Peak        21:00:00      23:00:00      0.16646   \n",
            "121        Off-Peak           Other         Other      0.13195   \n",
            "122            Peak        16:00:00      21:00:00      0.18908   \n",
            "123  Super-Off-Peak        09:00:00      14:00:00      0.06434   \n",
            "124        Off-Peak           Other         Other      0.12667   \n",
            "\n",
            "    Customer Charge Phase  Customer Charge Rate  \\\n",
            "83                    NaN              60.48915   \n",
            "84                    NaN              60.48915   \n",
            "85                    NaN              60.48915   \n",
            "86                    NaN              60.48915   \n",
            "87                    NaN              60.48915   \n",
            "88                    NaN              60.48915   \n",
            "89                    NaN              60.48915   \n",
            "90                    NaN              92.10522   \n",
            "91                    NaN              92.10522   \n",
            "92                    NaN              92.10522   \n",
            "93                    NaN              92.10522   \n",
            "94                    NaN              92.10522   \n",
            "95                    NaN              92.10522   \n",
            "96                    NaN              92.10522   \n",
            "97                    NaN             145.54636   \n",
            "98                    NaN             145.54636   \n",
            "99                    NaN             145.54636   \n",
            "100                   NaN             145.54636   \n",
            "101                   NaN             145.54636   \n",
            "102                   NaN             145.54636   \n",
            "103                   NaN             145.54636   \n",
            "104                   NaN             113.81354   \n",
            "105                   NaN             113.81354   \n",
            "106                   NaN             113.81354   \n",
            "107                   NaN             113.81354   \n",
            "108                   NaN             113.81354   \n",
            "109                   NaN             113.81354   \n",
            "110                   NaN             113.81354   \n",
            "111                   NaN             118.78805   \n",
            "112                   NaN             118.78805   \n",
            "113                   NaN             118.78805   \n",
            "114                   NaN             118.78805   \n",
            "115                   NaN             118.78805   \n",
            "116                   NaN             118.78805   \n",
            "117                   NaN             118.78805   \n",
            "118                   NaN             493.41390   \n",
            "119                   NaN             493.41390   \n",
            "120                   NaN             493.41390   \n",
            "121                   NaN             493.41390   \n",
            "122                   NaN             493.41390   \n",
            "123                   NaN             493.41390   \n",
            "124                   NaN             493.41390   \n",
            "\n",
            "                                   Day  \n",
            "83                            Everyday  \n",
            "84                            Everyday  \n",
            "85                            Everyday  \n",
            "86                            Everyday  \n",
            "87                            Everyday  \n",
            "88   Everyday in March, April, and May  \n",
            "89                            Everyday  \n",
            "90                            Everyday  \n",
            "91                            Everyday  \n",
            "92                            Everyday  \n",
            "93                            Everyday  \n",
            "94                            Everyday  \n",
            "95   Everyday in March, April, and May  \n",
            "96                            Everyday  \n",
            "97                            Everyday  \n",
            "98                            Everyday  \n",
            "99                            Everyday  \n",
            "100                           Everyday  \n",
            "101                           Everyday  \n",
            "102  Everyday in March, April, and May  \n",
            "103                           Everyday  \n",
            "104                           Everyday  \n",
            "105                           Everyday  \n",
            "106                           Everyday  \n",
            "107                           Everyday  \n",
            "108                           Everyday  \n",
            "109  Everyday in March, April, and May  \n",
            "110                           Everyday  \n",
            "111                           Everyday  \n",
            "112                           Everyday  \n",
            "113                           Everyday  \n",
            "114                           Everyday  \n",
            "115                           Everyday  \n",
            "116  Everyday in March, April, and May  \n",
            "117                           Everyday  \n",
            "118                           Everyday  \n",
            "119                           Everyday  \n",
            "120                           Everyday  \n",
            "121                           Everyday  \n",
            "122                           Everyday  \n",
            "123  Everyday in March, April, and May  \n",
            "124                           Everyday  \n"
          ]
        }
      ]
    }
  ]
}