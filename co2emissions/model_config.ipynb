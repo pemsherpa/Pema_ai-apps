{
 "cells": [
  {
   "cell_type": "code",
   "execution_count": 2,
   "metadata": {},
   "outputs": [],
   "source": [
    "import pickle\n",
    "import xgboost as xgb\n",
    "SEED = 0"
   ]
  },
  {
   "cell_type": "markdown",
   "metadata": {},
   "source": [
    "## Creating XGB models with finetuned parameters"
   ]
  },
  {
   "cell_type": "markdown",
   "metadata": {},
   "source": [
    "### Scope 1"
   ]
  },
  {
   "cell_type": "code",
   "execution_count": 34,
   "metadata": {},
   "outputs": [
    {
     "data": {
      "text/plain": [
       "{'max_depth': 10,\n",
       " 'min_child_weight': 7,\n",
       " 'eta': 0.01,\n",
       " 'subsample': 0.8,\n",
       " 'colsample_bytree': 0.5,\n",
       " 'objective': 'reg:linear',\n",
       " 'eval_metric': 'mae',\n",
       " 'n_estimators': 131}"
      ]
     },
     "execution_count": 34,
     "metadata": {},
     "output_type": "execute_result"
    }
   ],
   "source": [
    "XGB_scope1_params = pickle.load(open(\"model_parameters/XGB_scope1_params.p\",\"rb\"))\n",
    "XGB_scope1_params"
   ]
  },
  {
   "cell_type": "code",
   "execution_count": 35,
   "metadata": {},
   "outputs": [],
   "source": [
    "XGB_scope1_model = xgb.XGBRegressor(**XGB_scope1_params, seed=SEED, random_state=SEED)\n",
    "pickle.dump(XGB_scope1_model, open(\"model_parameters/XGB_scope1_params.p\",\"wb\"))"
   ]
  },
  {
   "cell_type": "markdown",
   "metadata": {},
   "source": [
    "### Scope 2"
   ]
  },
  {
   "cell_type": "code",
   "execution_count": 38,
   "metadata": {},
   "outputs": [
    {
     "data": {
      "text/plain": [
       "{'max_depth': 9,\n",
       " 'min_child_weight': 7,\n",
       " 'eta': 0.01,\n",
       " 'subsample': 0.9,\n",
       " 'colsample_bytree': 0.5,\n",
       " 'objective': 'reg:squarederror',\n",
       " 'eval_metric': 'mae',\n",
       " 'n_estimators': 170}"
      ]
     },
     "execution_count": 38,
     "metadata": {},
     "output_type": "execute_result"
    }
   ],
   "source": [
    "XGB_scope2_params = pickle.load(open(\"model_parameters/XGB_scope2_params.p\",\"rb\"))\n",
    "XGB_scope2_params"
   ]
  },
  {
   "cell_type": "code",
   "execution_count": 39,
   "metadata": {},
   "outputs": [],
   "source": [
    "XGB_scope2_model = xgb.XGBRegressor(**XGB_scope2_params, seed=SEED, random_state=SEED)\n",
    "pickle.dump(XGB_scope2_model, open(\"models/XGB_scope2_model.p\",\"wb\"))"
   ]
  },
  {
   "cell_type": "markdown",
   "metadata": {},
   "source": [
    "### Total emissions"
   ]
  },
  {
   "cell_type": "code",
   "execution_count": 42,
   "metadata": {},
   "outputs": [
    {
     "data": {
      "text/plain": [
       "{'max_depth': 9,\n",
       " 'min_child_weight': 5,\n",
       " 'eta': 0.01,\n",
       " 'subsample': 0.8,\n",
       " 'colsample_bytree': 0.5,\n",
       " 'objective': 'reg:squarederror',\n",
       " 'eval_metric': 'mae',\n",
       " 'n_estimators': 242}"
      ]
     },
     "execution_count": 42,
     "metadata": {},
     "output_type": "execute_result"
    }
   ],
   "source": [
    "XGB_total_emissions_params = pickle.load(open(\"model_parameters/XGB_total_emissions_params.p\",\"rb\"))\n",
    "XGB_total_emissions_params"
   ]
  },
  {
   "cell_type": "code",
   "execution_count": 43,
   "metadata": {},
   "outputs": [],
   "source": [
    "XGB_total_emissions_model = xgb.XGBRegressor(**XGB_total_emissions_params, seed=SEED, random_state=SEED)\n",
    "pickle.dump(XGB_total_emissions_model, open(\"models/XGB_total_emissions_model.p\",\"wb\"))"
   ]
  }
 ],
 "metadata": {
  "kernelspec": {
   "display_name": "Py3.11.8",
   "language": "python",
   "name": "python3"
  },
  "language_info": {
   "codemirror_mode": {
    "name": "ipython",
    "version": 3
   },
   "file_extension": ".py",
   "mimetype": "text/x-python",
   "name": "python",
   "nbconvert_exporter": "python",
   "pygments_lexer": "ipython3",
   "version": "3.11.8"
  }
 },
 "nbformat": 4,
 "nbformat_minor": 2
}
